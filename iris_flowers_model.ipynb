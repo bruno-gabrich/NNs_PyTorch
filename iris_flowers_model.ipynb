{
 "cells": [
  {
   "cell_type": "code",
   "execution_count": 3,
   "metadata": {},
   "outputs": [],
   "source": [
    "import torch\n",
    "from sklearn.model_selection import train_test_split\n",
    "from sklearn.preprocessing import StandardScaler"
   ]
  },
  {
   "cell_type": "code",
   "execution_count": 4,
   "metadata": {},
   "outputs": [],
   "source": [
    "x = torch.tensor([1.0])"
   ]
  },
  {
   "cell_type": "code",
   "execution_count": 5,
   "metadata": {},
   "outputs": [
    {
     "name": "stdout",
     "output_type": "stream",
     "text": [
      "<class 'numpy.ndarray'>\n"
     ]
    }
   ],
   "source": [
    "from sklearn.datasets import load_iris\n",
    "\n",
    "#Load iris dataset\n",
    "iris = load_iris()\n",
    "\n",
    "#Extract the features and target variables\n",
    "\n",
    "X = iris.data\n",
    "y = iris.target\n",
    "print(type(X))\n",
    "\n",
    "#print(X)"
   ]
  },
  {
   "cell_type": "markdown",
   "metadata": {},
   "source": [
    "<span style=\"font-size:22px;\">***- Splitting Data into Training and Testing***.</span>"
   ]
  },
  {
   "cell_type": "code",
   "execution_count": 6,
   "metadata": {},
   "outputs": [
    {
     "data": {
      "text/plain": [
       "'X_train shape: (120, 4)'"
      ]
     },
     "metadata": {},
     "output_type": "display_data"
    },
    {
     "data": {
      "text/plain": [
       "'y_train shape: (120,)'"
      ]
     },
     "metadata": {},
     "output_type": "display_data"
    },
    {
     "data": {
      "text/plain": [
       "'X_test shape: (30, 4)'"
      ]
     },
     "metadata": {},
     "output_type": "display_data"
    },
    {
     "data": {
      "text/plain": [
       "'y_test shape: (30,)'"
      ]
     },
     "metadata": {},
     "output_type": "display_data"
    }
   ],
   "source": [
    "# Split the data into training and test sets\n",
    "X_train, X_test, y_train, y_test = train_test_split(X, y, test_size=0.2, random_state=42, stratify=y)\n",
    "#random_state=42 guarantees the split will be always the same\n",
    "#stratify=y maintains proportion of labels for train and test data\n",
    "display(f'X_train shape: {X_train.shape}')\n",
    "display(f'y_train shape: {y_train.shape}')\n",
    "display(f'X_test shape: {X_test.shape}')\n",
    "display(f'y_test shape: {y_test.shape}')"
   ]
  },
  {
   "cell_type": "markdown",
   "metadata": {},
   "source": [
    "<span style=\"font-size:22px;\">***- Normalizing Data***.</span>"
   ]
  },
  {
   "cell_type": "code",
   "execution_count": 7,
   "metadata": {},
   "outputs": [],
   "source": [
    "# Standardize the data\n",
    "# Initialize the StandardScaler\n",
    "scaler = StandardScaler()\n",
    "# Fit the scaler on the training data and transform it\n",
    "X_train = scaler.fit_transform(X_train)\n",
    "# Transform the test data using the same scaler\n",
    "X_test = scaler.transform(X_test)"
   ]
  },
  {
   "cell_type": "markdown",
   "metadata": {},
   "source": [
    "<span style=\"font-size:22px;\">***- Converting from Numpy to Tensors***.</span>"
   ]
  },
  {
   "cell_type": "code",
   "execution_count": 8,
   "metadata": {},
   "outputs": [],
   "source": [
    "# Convert to PyTorch tensors\n",
    "X_train = torch.tensor(X_train, dtype=torch.float32)\n",
    "X_test = torch.tensor(X_test, dtype=torch.float32)\n",
    "y_train = torch.tensor(y_train, dtype=torch.long)\n",
    "y_test = torch.tensor(y_test, dtype=torch.long)"
   ]
  },
  {
   "cell_type": "markdown",
   "metadata": {},
   "source": [
    "<span style=\"font-size:22px;\">***- Create Data Loader for Training and Test Sets***.</span>"
   ]
  },
  {
   "cell_type": "code",
   "execution_count": 10,
   "metadata": {},
   "outputs": [],
   "source": [
    "from torch.utils.data import DataLoader, TensorDataset\n",
    "\n",
    "# Create DataLoader for training and test sets\n",
    "train_dataset = TensorDataset(X_train, y_train)\n",
    "test_dataset = TensorDataset(X_test, y_test)\n",
    "\n",
    "train_loader = DataLoader(train_dataset, batch_size=1, shuffle=True)\n",
    "test_loader = DataLoader(test_dataset, batch_size=1, shuffle=False)"
   ]
  },
  {
   "cell_type": "markdown",
   "metadata": {},
   "source": [
    "<span style=\"font-size:22px;\">***- Build the Neural Network Model.***.</span>"
   ]
  },
  {
   "cell_type": "code",
   "execution_count": 32,
   "metadata": {},
   "outputs": [],
   "source": [
    "import torch.nn as nn\n",
    "\n",
    "class ClassificationNet(nn.Module):\n",
    "    def __init__(self, input_units, hidden_units, output_units):\n",
    "        super(ClassificationNet, self).__init__()\n",
    "        self.fc1 = nn.Linear(input_units, hidden_units)\n",
    "        self.fc2 = nn.Linear(hidden_units, output_units)\n",
    "\n",
    "    def forward(self, x):\n",
    "        x = torch.relu(self.fc1(x))\n",
    "        x = self.fc2(x)\n",
    "        return x\n",
    "\n",
    "# Instantiate the model\n",
    "model = ClassificationNet(input_units=4, hidden_units=64, output_units=3)"
   ]
  },
  {
   "cell_type": "code",
   "execution_count": 33,
   "metadata": {},
   "outputs": [],
   "source": [
    "import torch.optim as optim\n",
    "\n",
    "# Define the loss function and optimizer\n",
    "criterion = nn.CrossEntropyLoss()\n",
    "optimizer = optim.Adam(model.parameters(), lr=0.001)"
   ]
  },
  {
   "cell_type": "code",
   "execution_count": 34,
   "metadata": {},
   "outputs": [],
   "source": [
    "import matplotlib.pyplot as plt"
   ]
  },
  {
   "cell_type": "code",
   "execution_count": 35,
   "metadata": {},
   "outputs": [],
   "source": [
    "def new_training(epochs):\n",
    "    \"\"\"This function trains the newly created model\"\"\"\n",
    "    train_loss = []\n",
    "    test_loss = []\n",
    "    for epoch in range(epochs):\n",
    "        #Training Phase\n",
    "        model.train()\n",
    "        running_loss = 0.0\n",
    "        for X_batch, y_batch in train_loader:\n",
    "            #print(y_batch)\n",
    "            model_output = model(X_batch)\n",
    "            #print(model_output)\n",
    "            loss = criterion(model_output, y_batch)\n",
    "            optimizer.zero_grad()\n",
    "            loss.backward()\n",
    "            optimizer.step()\n",
    "            running_loss += loss.item()\n",
    "        running_loss /= len(train_loader)\n",
    "        train_loss.append(running_loss)\n",
    "\n",
    "        #Evaluation Phase\n",
    "        model.eval()\n",
    "        running_test_loss = 0.0\n",
    "        for X_batch, y_batch in test_loader:\n",
    "            test_output = model(X_batch)\n",
    "            loss = criterion(test_output, y_batch)\n",
    "            running_test_loss += loss.item()\n",
    "        running_test_loss /= len(test_loader)\n",
    "        test_loss.append(running_test_loss)\n",
    "\n",
    "    # Plot the loss curves\n",
    "    plt.figure(figsize=(10, 6))\n",
    "    plt.plot(range(1, epochs + 1), train_loss, label='Training Loss')\n",
    "    plt.plot(range(1, epochs + 1), test_loss, label='Test Loss', linestyle='--')\n",
    "    plt.xlabel('Epoch')\n",
    "    plt.ylabel('Loss')\n",
    "    plt.title('Training and Test Loss Curve SGS')\n",
    "    plt.legend()\n",
    "    plt.grid(True)\n",
    "    plt.show()"
   ]
  },
  {
   "cell_type": "code",
   "execution_count": 36,
   "metadata": {},
   "outputs": [
    {
     "data": {
      "image/png": "[encoded data removed]",
      "text/plain": [
       "<Figure size 1000x600 with 1 Axes>"
      ]
     },
     "metadata": {},
     "output_type": "display_data"
    }
   ],
   "source": [
    "new_training(100)"
   ]
  },
  {
   "cell_type": "code",
   "execution_count": 37,
   "metadata": {},
   "outputs": [
    {
     "name": "stdout",
     "output_type": "stream",
     "text": [
      "The actual value is:  0 | Model:  0\n",
      "The actual value is:  2 | Model:  2\n",
      "The actual value is:  1 | Model:  1\n",
      "The actual value is:  1 | Model:  1\n",
      "The actual value is:  0 | Model:  0\n",
      "The actual value is:  1 | Model:  1\n",
      "The actual value is:  0 | Model:  0\n",
      "The actual value is:  0 | Model:  0\n",
      "The actual value is:  2 | Model:  2\n",
      "The actual value is:  1 | Model:  1\n",
      "The actual value is:  2 | Model:  2\n",
      "The actual value is:  2 | Model:  2\n",
      "The actual value is:  2 | Model:  2\n",
      "The actual value is:  1 | Model:  1\n",
      "The actual value is:  0 | Model:  0\n",
      "The actual value is:  0 | Model:  0\n",
      "The actual value is:  0 | Model:  0\n",
      "The actual value is:  1 | Model:  1\n",
      "The actual value is:  1 | Model:  1\n",
      "The actual value is:  2 | Model:  2\n",
      "The actual value is:  0 | Model:  0\n",
      "The actual value is:  2 | Model:  2\n",
      "The actual value is:  1 | Model:  1\n",
      "The actual value is:  2 | Model:  2\n",
      "The actual value is:  2 | Model:  2\n",
      "The actual value is:  1 | Model:  2\n",
      "The actual value is:  1 | Model:  1\n",
      "The actual value is:  0 | Model:  0\n",
      "The actual value is:  2 | Model:  2\n",
      "The actual value is:  0 | Model:  0\n"
     ]
    }
   ],
   "source": [
    "import numpy as np\n",
    "\n",
    "for iter in range(len(y_test)):\n",
    "    model.eval()\n",
    "\n",
    "    result = model(X_test[iter, :])\n",
    "    \n",
    "\n",
    "    prediction = np.argmax(result.detach().numpy(), axis=None)\n",
    "    \n",
    "\n",
    "    print(\"The actual value is: \", y_test[iter].numpy(), \"| Model: \", prediction)"
   ]
  },
  {
   "cell_type": "code",
   "execution_count": null,
   "metadata": {},
   "outputs": [],
   "source": []
  }
 ],
 "metadata": {
  "kernelspec": {
   "display_name": "base",
   "language": "python",
   "name": "python3"
  },
  "language_info": {
   "codemirror_mode": {
    "name": "ipython",
    "version": 3
   },
   "file_extension": ".py",
   "mimetype": "text/x-python",
   "name": "python",
   "nbconvert_exporter": "python",
   "pygments_lexer": "ipython3",
   "version": "3.9.12"
  }
 },
 "nbformat": 4,
 "nbformat_minor": 2
}

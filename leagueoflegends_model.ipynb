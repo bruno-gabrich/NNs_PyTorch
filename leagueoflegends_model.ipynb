{
 "cells": [
  {
   "cell_type": "markdown",
   "metadata": {},
   "source": [
    "<span style=\"font-size:22px;\">***- Importing Data from file***.</span>"
   ]
  },
  {
   "cell_type": "code",
   "execution_count": 1,
   "metadata": {},
   "outputs": [
    {
     "data": {
      "text/html": [
       "<div>\n",
       "<style scoped>\n",
       "    .dataframe tbody tr th:only-of-type {\n",
       "        vertical-align: middle;\n",
       "    }\n",
       "\n",
       "    .dataframe tbody tr th {\n",
       "        vertical-align: top;\n",
       "    }\n",
       "\n",
       "    .dataframe thead th {\n",
       "        text-align: right;\n",
       "    }\n",
       "</style>\n",
       "<table border=\"1\" class=\"dataframe\">\n",
       "  <thead>\n",
       "    <tr style=\"text-align: right;\">\n",
       "      <th></th>\n",
       "      <th>win</th>\n",
       "      <th>kills</th>\n",
       "      <th>deaths</th>\n",
       "      <th>assists</th>\n",
       "      <th>gold_earned</th>\n",
       "      <th>cs</th>\n",
       "      <th>wards_placed</th>\n",
       "      <th>wards_killed</th>\n",
       "      <th>damage_dealt</th>\n",
       "    </tr>\n",
       "  </thead>\n",
       "  <tbody>\n",
       "    <tr>\n",
       "      <th>0</th>\n",
       "      <td>0</td>\n",
       "      <td>16</td>\n",
       "      <td>6</td>\n",
       "      <td>19</td>\n",
       "      <td>17088</td>\n",
       "      <td>231</td>\n",
       "      <td>11</td>\n",
       "      <td>7</td>\n",
       "      <td>15367</td>\n",
       "    </tr>\n",
       "    <tr>\n",
       "      <th>1</th>\n",
       "      <td>1</td>\n",
       "      <td>8</td>\n",
       "      <td>8</td>\n",
       "      <td>5</td>\n",
       "      <td>14865</td>\n",
       "      <td>259</td>\n",
       "      <td>10</td>\n",
       "      <td>2</td>\n",
       "      <td>38332</td>\n",
       "    </tr>\n",
       "    <tr>\n",
       "      <th>2</th>\n",
       "      <td>0</td>\n",
       "      <td>0</td>\n",
       "      <td>17</td>\n",
       "      <td>11</td>\n",
       "      <td>15919</td>\n",
       "      <td>169</td>\n",
       "      <td>14</td>\n",
       "      <td>5</td>\n",
       "      <td>24642</td>\n",
       "    </tr>\n",
       "    <tr>\n",
       "      <th>3</th>\n",
       "      <td>0</td>\n",
       "      <td>19</td>\n",
       "      <td>11</td>\n",
       "      <td>1</td>\n",
       "      <td>11534</td>\n",
       "      <td>264</td>\n",
       "      <td>14</td>\n",
       "      <td>3</td>\n",
       "      <td>15789</td>\n",
       "    </tr>\n",
       "    <tr>\n",
       "      <th>4</th>\n",
       "      <td>0</td>\n",
       "      <td>12</td>\n",
       "      <td>7</td>\n",
       "      <td>6</td>\n",
       "      <td>18926</td>\n",
       "      <td>124</td>\n",
       "      <td>15</td>\n",
       "      <td>7</td>\n",
       "      <td>40268</td>\n",
       "    </tr>\n",
       "  </tbody>\n",
       "</table>\n",
       "</div>"
      ],
      "text/plain": [
       "   win  kills  deaths  assists  gold_earned   cs  wards_placed  wards_killed  \\\n",
       "0    0     16       6       19        17088  231            11             7   \n",
       "1    1      8       8        5        14865  259            10             2   \n",
       "2    0      0      17       11        15919  169            14             5   \n",
       "3    0     19      11        1        11534  264            14             3   \n",
       "4    0     12       7        6        18926  124            15             7   \n",
       "\n",
       "   damage_dealt  \n",
       "0         15367  \n",
       "1         38332  \n",
       "2         24642  \n",
       "3         15789  \n",
       "4         40268  "
      ]
     },
     "execution_count": 1,
     "metadata": {},
     "output_type": "execute_result"
    }
   ],
   "source": [
    "import pandas as pd\n",
    "\n",
    "Data = pd.read_csv(\"league_of_legends_data_large.csv\")\n",
    "Data.head()\n"
   ]
  },
  {
   "cell_type": "markdown",
   "metadata": {},
   "source": [
    "<span style=\"font-size:22px;\">***- Setting it up the GPU***.</span>"
   ]
  },
  {
   "cell_type": "code",
   "execution_count": 2,
   "metadata": {},
   "outputs": [],
   "source": [
    "import torch\n",
    "torch.cuda.is_available()\n",
    "device = torch.device('cuda:0')"
   ]
  },
  {
   "cell_type": "markdown",
   "metadata": {},
   "source": [
    "<span style=\"font-size:20px;\">\"win\" is a target variable and the remaining are features.</span>"
   ]
  },
  {
   "cell_type": "code",
   "execution_count": 3,
   "metadata": {},
   "outputs": [
    {
     "data": {
      "text/html": [
       "<div>\n",
       "<style scoped>\n",
       "    .dataframe tbody tr th:only-of-type {\n",
       "        vertical-align: middle;\n",
       "    }\n",
       "\n",
       "    .dataframe tbody tr th {\n",
       "        vertical-align: top;\n",
       "    }\n",
       "\n",
       "    .dataframe thead th {\n",
       "        text-align: right;\n",
       "    }\n",
       "</style>\n",
       "<table border=\"1\" class=\"dataframe\">\n",
       "  <thead>\n",
       "    <tr style=\"text-align: right;\">\n",
       "      <th></th>\n",
       "      <th>kills</th>\n",
       "      <th>deaths</th>\n",
       "      <th>assists</th>\n",
       "      <th>gold_earned</th>\n",
       "      <th>cs</th>\n",
       "      <th>wards_placed</th>\n",
       "      <th>wards_killed</th>\n",
       "      <th>damage_dealt</th>\n",
       "    </tr>\n",
       "  </thead>\n",
       "  <tbody>\n",
       "    <tr>\n",
       "      <th>0</th>\n",
       "      <td>16</td>\n",
       "      <td>6</td>\n",
       "      <td>19</td>\n",
       "      <td>17088</td>\n",
       "      <td>231</td>\n",
       "      <td>11</td>\n",
       "      <td>7</td>\n",
       "      <td>15367</td>\n",
       "    </tr>\n",
       "    <tr>\n",
       "      <th>1</th>\n",
       "      <td>8</td>\n",
       "      <td>8</td>\n",
       "      <td>5</td>\n",
       "      <td>14865</td>\n",
       "      <td>259</td>\n",
       "      <td>10</td>\n",
       "      <td>2</td>\n",
       "      <td>38332</td>\n",
       "    </tr>\n",
       "    <tr>\n",
       "      <th>2</th>\n",
       "      <td>0</td>\n",
       "      <td>17</td>\n",
       "      <td>11</td>\n",
       "      <td>15919</td>\n",
       "      <td>169</td>\n",
       "      <td>14</td>\n",
       "      <td>5</td>\n",
       "      <td>24642</td>\n",
       "    </tr>\n",
       "    <tr>\n",
       "      <th>3</th>\n",
       "      <td>19</td>\n",
       "      <td>11</td>\n",
       "      <td>1</td>\n",
       "      <td>11534</td>\n",
       "      <td>264</td>\n",
       "      <td>14</td>\n",
       "      <td>3</td>\n",
       "      <td>15789</td>\n",
       "    </tr>\n",
       "    <tr>\n",
       "      <th>4</th>\n",
       "      <td>12</td>\n",
       "      <td>7</td>\n",
       "      <td>6</td>\n",
       "      <td>18926</td>\n",
       "      <td>124</td>\n",
       "      <td>15</td>\n",
       "      <td>7</td>\n",
       "      <td>40268</td>\n",
       "    </tr>\n",
       "  </tbody>\n",
       "</table>\n",
       "</div>"
      ],
      "text/plain": [
       "   kills  deaths  assists  gold_earned   cs  wards_placed  wards_killed  \\\n",
       "0     16       6       19        17088  231            11             7   \n",
       "1      8       8        5        14865  259            10             2   \n",
       "2      0      17       11        15919  169            14             5   \n",
       "3     19      11        1        11534  264            14             3   \n",
       "4     12       7        6        18926  124            15             7   \n",
       "\n",
       "   damage_dealt  \n",
       "0         15367  \n",
       "1         38332  \n",
       "2         24642  \n",
       "3         15789  \n",
       "4         40268  "
      ]
     },
     "execution_count": 3,
     "metadata": {},
     "output_type": "execute_result"
    }
   ],
   "source": [
    "X = Data.drop('win', axis=1)\n",
    "#X = Data['kills, assists']#, 'assists', 'gold_earned', 'cs', 'wards_placed', 'wards_killed', 'damage_dealt']\n",
    "y = Data['win']\n",
    "X.head()\n",
    "#X.shape\n",
    "#y.head()\n",
    "#print(X.iloc[0,0])"
   ]
  },
  {
   "cell_type": "markdown",
   "metadata": {},
   "source": [
    "<span style=\"font-size:22px;\">***- Splitting Data into Training and Testing***.</span>"
   ]
  },
  {
   "cell_type": "code",
   "execution_count": 4,
   "metadata": {},
   "outputs": [],
   "source": [
    "\n",
    "from sklearn.model_selection import train_test_split\n",
    "\n",
    "\n",
    "X_train, X_test, y_train, y_test = train_test_split(X, y, test_size=0.2, random_state=42)\n"
   ]
  },
  {
   "cell_type": "markdown",
   "metadata": {},
   "source": [
    "<span style=\"font-size:22px;\">***- Normalize Data***.</span>"
   ]
  },
  {
   "cell_type": "code",
   "execution_count": 5,
   "metadata": {},
   "outputs": [
    {
     "name": "stdout",
     "output_type": "stream",
     "text": [
      "[[-0.21206084  0.43457483 -1.59772642 -1.04547004  1.07067575 -1.00919453\n",
      "   0.14245462 -0.87600199]\n",
      " [ 0.48969168 -0.0890093  -0.38057665 -1.0217178   0.32346339  0.03255466\n",
      "  -0.1997787   0.47278784]\n",
      " [ 1.01600606  0.60910287  1.01045166 -0.53762456 -1.3923576  -0.31469507\n",
      "   0.48468793  0.1785985 ]\n",
      " [-0.73837522 -0.61259343  0.66269458  0.85131585 -0.38223718  1.24792872\n",
      "   0.48468793 -0.57206772]\n",
      " [ 0.6651298  -0.0890093   1.35820873  0.02586902 -1.48921846  1.59517845\n",
      "  -1.22647864  1.03315945]\n",
      " [-0.21206084 -0.43806539  1.53208727  0.85968569  1.18137388  0.55342926\n",
      "   0.48468793  1.26473572]\n",
      " [ 1.54232044  0.26004678  0.3149375   0.33464811 -1.14328681  0.20617953\n",
      "   1.16915456  0.22655581]\n",
      " [ 1.01600606  1.30721505 -1.24996934  1.0286659   0.25427706  0.03255466\n",
      "  -0.1997787   1.55884832]\n",
      " [-0.56293709 -1.31070561  0.83657312  0.39482045  1.55498007  0.72705412\n",
      "   0.48468793  0.00856105]\n",
      " [-0.03662271  0.95815896  1.70596581  1.20149171  0.8077677   0.03255466\n",
      "   0.82692124  0.78094235]]\n",
      "<class 'pandas.core.series.Series'>\n",
      "<class 'numpy.ndarray'>\n"
     ]
    }
   ],
   "source": [
    "from sklearn.preprocessing import StandardScaler\n",
    "\n",
    "scaler = StandardScaler()\n",
    "X_train = scaler.fit_transform(X_train)\n",
    "X_test = scaler.transform(X_test)\n",
    "\n",
    "print(X_train[:10,:])\n",
    "print(type(y_train))\n",
    "print(type(X_train))"
   ]
  },
  {
   "cell_type": "markdown",
   "metadata": {},
   "source": [
    "<span style=\"font-size:22px;\">***- Convert from pd data frame to Torch***.</span>"
   ]
  },
  {
   "cell_type": "code",
   "execution_count": 6,
   "metadata": {},
   "outputs": [],
   "source": [
    "X_train = torch.tensor(X_train, dtype=torch.float32)\n",
    "X_test = torch.tensor(X_test, dtype=torch.float32)\n",
    "y_train = torch.tensor(y_train.values, dtype=torch.float32)\n",
    "y_test = torch.tensor(y_test.values, dtype=torch.float32)\n"
   ]
  },
  {
   "cell_type": "code",
   "execution_count": 7,
   "metadata": {},
   "outputs": [
    {
     "name": "stdout",
     "output_type": "stream",
     "text": [
      "tensor([0., 0., 0., 1., 1., 1., 0., 1., 0., 0., 0., 1., 0., 0., 1., 0., 1., 1.,\n",
      "        1., 1., 0., 1., 1., 1., 0., 1., 1., 1., 1., 1., 0., 0., 1., 1., 1., 0.,\n",
      "        0., 1., 1., 0., 1., 1., 1., 1., 1., 1., 0., 1., 0., 0., 1., 0., 1., 1.,\n",
      "        1., 0., 1., 0., 0., 0., 1., 0., 0., 0., 0., 0., 0., 0., 1., 1., 1., 1.,\n",
      "        0., 1., 0., 1., 0., 0., 0., 1., 1., 1., 1., 0., 0., 1., 1., 1., 1., 0.,\n",
      "        1., 1., 1., 1., 1., 1., 0., 1., 0., 0., 0., 0., 1., 0., 1., 1., 0., 0.,\n",
      "        0., 1., 1., 0., 1., 0., 1., 0., 0., 1., 0., 1., 0., 0., 1., 0., 1., 1.,\n",
      "        1., 0., 1., 0., 1., 1., 1., 0., 1., 1., 1., 0., 1., 0., 1., 0., 0., 1.,\n",
      "        0., 1., 0., 0., 1., 0., 0., 0., 1., 1., 0., 1., 1., 1., 0., 1., 1., 1.,\n",
      "        0., 0., 0., 0., 0., 1., 0., 1., 0., 1., 1., 1., 0., 1., 0., 0., 0., 1.,\n",
      "        0., 0., 0., 0., 0., 0., 0., 0., 1., 1., 1., 1., 0., 0., 0., 1., 1., 1.,\n",
      "        1., 0.])\n"
     ]
    }
   ],
   "source": [
    "print(y_test)"
   ]
  },
  {
   "cell_type": "markdown",
   "metadata": {},
   "source": [
    "<span style=\"font-size:22px;\">***- Define the Logistic Regression Model***.</span>"
   ]
  },
  {
   "cell_type": "code",
   "execution_count": 8,
   "metadata": {},
   "outputs": [
    {
     "data": {
      "text/plain": [
       "LogisticRegressionModel(\n",
       "  (function1): Linear(in_features=8, out_features=1, bias=True)\n",
       ")"
      ]
     },
     "execution_count": 8,
     "metadata": {},
     "output_type": "execute_result"
    }
   ],
   "source": [
    "import torch.nn as nn\n",
    "\n",
    "class LogisticRegressionModel(nn.Module):\n",
    "    \"\"\"This class inherits nn.Module and defines the logistic regression model.\"\"\"\n",
    "    def __init__(self, number_input_features):\n",
    "        super(LogisticRegressionModel, self).__init__()\n",
    "        self.function1 = nn.Linear(number_input_features, 1)\n",
    "\n",
    "    def forward(self, x):\n",
    "        x = self.function1(x)\n",
    "        x = torch.sigmoid(x)\n",
    "        return x\n",
    "    \n",
    "number_features = X_train.shape[1]\n",
    "model = LogisticRegressionModel(number_features)\n",
    "model.to(device)\n"
   ]
  },
  {
   "cell_type": "markdown",
   "metadata": {},
   "source": [
    "<span style=\"font-size:22px;\">***- Define Loss Function and Optimizer***.</span>"
   ]
  },
  {
   "cell_type": "code",
   "execution_count": 9,
   "metadata": {},
   "outputs": [],
   "source": [
    "criterion = nn.BCELoss()\n",
    "optimizer = torch.optim.SGD(model.parameters(), lr=0.01)"
   ]
  },
  {
   "cell_type": "markdown",
   "metadata": {},
   "source": [
    "<span style=\"font-size:22px;\">***- Train the Model without weight decay***.</span>"
   ]
  },
  {
   "cell_type": "code",
   "execution_count": 19,
   "metadata": {},
   "outputs": [
    {
     "name": "stdout",
     "output_type": "stream",
     "text": [
      "Number of epochs:  100 , Loss:  0.6856321692466736\n",
      "Accuracy Train:  0.535 Accuracy Test:  0.505\n",
      "Number of epochs:  200 , Loss:  0.6856321692466736\n",
      "Accuracy Train:  0.535 Accuracy Test:  0.505\n",
      "Number of epochs:  300 , Loss:  0.6856321692466736\n",
      "Accuracy Train:  0.535 Accuracy Test:  0.505\n",
      "Number of epochs:  400 , Loss:  0.6856321692466736\n",
      "Accuracy Train:  0.535 Accuracy Test:  0.505\n",
      "Number of epochs:  500 , Loss:  0.6856321692466736\n",
      "Accuracy Train:  0.535 Accuracy Test:  0.505\n",
      "Number of epochs:  600 , Loss:  0.6856321692466736\n",
      "Accuracy Train:  0.535 Accuracy Test:  0.505\n",
      "Number of epochs:  700 , Loss:  0.6856321692466736\n",
      "Accuracy Train:  0.535 Accuracy Test:  0.505\n",
      "Number of epochs:  800 , Loss:  0.6856321692466736\n",
      "Accuracy Train:  0.535 Accuracy Test:  0.505\n",
      "Number of epochs:  900 , Loss:  0.6856321692466736\n",
      "Accuracy Train:  0.535 Accuracy Test:  0.505\n",
      "Number of epochs:  1000 , Loss:  0.6856321692466736\n",
      "Accuracy Train:  0.535 Accuracy Test:  0.505\n"
     ]
    }
   ],
   "source": [
    "losses = []\n",
    "epochs = 1000\n",
    "import numpy as np\n",
    "#print(model_output)\n",
    "for epoch in range(epochs):\n",
    "    model.train()\n",
    "    optimizer.zero_grad()\n",
    "    X_train, y_train = X_train.to(device), y_train.to(device)\n",
    "    outputs = model(X_train)\n",
    "    #print(outputs.shape)\n",
    "    #print(y_test.shape)\n",
    "    #print(outputs)\n",
    "    loss = criterion(outputs.squeeze(dim=1), y_train)\n",
    "    loss.backward()\n",
    "    optimizer.step()\n",
    "    if (epoch + 1) % 100 == 0:\n",
    "        print(\"Number of epochs: \", epoch + 1, \", Loss: \", loss.item())\n",
    "    losses.append(loss.item())\n",
    "\n",
    "    with torch.no_grad():\n",
    "        model.eval()\n",
    "        X_test, y_test = X_test.to(device), y_test.to(device)\n",
    "        eval_output_train = model(X_train)\n",
    "        eval_output_test = model(X_test)\n",
    "        predictions_train = (eval_output_train.squeeze(dim=1) > 0.5).float()\n",
    "        predictions_test = (eval_output_test.squeeze(dim=1) > 0.5).float()\n",
    "        correctness_train = (predictions_train == y_train).sum().item()\n",
    "        correctness_test = (predictions_test == y_test).sum().item()\n",
    "        accuracy_train = correctness_train / y_train.size(0)\n",
    "        accuracy_test = correctness_test / y_test.size(0)\n",
    "        if (epoch + 1) % 100 == 0:\n",
    "            print(\"Accuracy Train: \", accuracy_train, \"Accuracy Test: \", accuracy_test)\n"
   ]
  },
  {
   "cell_type": "markdown",
   "metadata": {},
   "source": [
    "<span style=\"font-size:22px;\">***- Define Loss Function and Optimizer***.</span>"
   ]
  },
  {
   "cell_type": "markdown",
   "metadata": {},
   "source": [
    "<span style=\"font-size:22px;\">***- Train the model with weight decay (L2 regularization)***.</span>"
   ]
  },
  {
   "cell_type": "code",
   "execution_count": 20,
   "metadata": {},
   "outputs": [
    {
     "name": "stdout",
     "output_type": "stream",
     "text": [
      "Number of epochs:  100 , Loss:  0.7314108610153198\n",
      "Accuracy Train:  0.49125 Accuracy Test:  0.515\n",
      "Number of epochs:  200 , Loss:  0.7135205864906311\n",
      "Accuracy Train:  0.50625 Accuracy Test:  0.505\n",
      "Number of epochs:  300 , Loss:  0.7024180293083191\n",
      "Accuracy Train:  0.51125 Accuracy Test:  0.495\n",
      "Number of epochs:  400 , Loss:  0.6956478953361511\n",
      "Accuracy Train:  0.51875 Accuracy Test:  0.52\n",
      "Number of epochs:  500 , Loss:  0.691555917263031\n",
      "Accuracy Train:  0.50875 Accuracy Test:  0.525\n",
      "Number of epochs:  600 , Loss:  0.6890897750854492\n",
      "Accuracy Train:  0.51625 Accuracy Test:  0.505\n",
      "Number of epochs:  700 , Loss:  0.6876024603843689\n",
      "Accuracy Train:  0.53375 Accuracy Test:  0.53\n",
      "Number of epochs:  800 , Loss:  0.6867026090621948\n",
      "Accuracy Train:  0.54 Accuracy Test:  0.51\n",
      "Number of epochs:  900 , Loss:  0.6861556768417358\n",
      "Accuracy Train:  0.54125 Accuracy Test:  0.515\n",
      "Number of epochs:  1000 , Loss:  0.6858213543891907\n",
      "Accuracy Train:  0.54125 Accuracy Test:  0.52\n"
     ]
    }
   ],
   "source": [
    "\n",
    "new_model = LogisticRegressionModel(number_features)\n",
    "new_model.to(device)\n",
    "optimizer = torch.optim.SGD(new_model.parameters(), lr=0.01, weight_decay=0.01)\n",
    "losses = []\n",
    "epochs = 1000\n",
    "import numpy as np\n",
    "#print(model_output)\n",
    "for epoch in range(epochs):\n",
    "    new_model.train()\n",
    "    optimizer.zero_grad()\n",
    "\n",
    "    model_output = new_model(X_train)\n",
    "\n",
    "    loss = criterion(model_output.squeeze(dim=1), y_train)\n",
    "    loss.backward()\n",
    "    optimizer.step()\n",
    "    if (epoch + 1) % 100 == 0:\n",
    "        print(\"Number of epochs: \", epoch + 1, \", Loss: \", loss.item())\n",
    "    losses.append(loss.item())\n",
    "\n",
    "    with torch.no_grad():\n",
    "        new_model.eval()\n",
    "\n",
    "        eval_output_train = new_model(X_train)\n",
    "        eval_output_test = new_model(X_test)\n",
    "        predictions_train = (eval_output_train.squeeze(dim=1) > 0.5).float()\n",
    "        predictions_test = (eval_output_test.squeeze(dim=1) > 0.5).float()\n",
    "        correctness_train = (predictions_train == y_train).sum().item()\n",
    "        correctness_test = (predictions_test == y_test).sum().item()\n",
    "        accuracy_train = correctness_train / y_train.size(0)\n",
    "        accuracy_test = correctness_test / y_test.size(0)\n",
    "        if (epoch + 1) % 100 == 0:\n",
    "            print(\"Accuracy Train: \", accuracy_train, \"Accuracy Test: \", accuracy_test)"
   ]
  },
  {
   "cell_type": "markdown",
   "metadata": {},
   "source": [
    "<span style=\"font-size:22px;\">***- Report with Model Metrics: Confusion Matrix, ROC curve, Precision, Recall and F1-Score***.</span>"
   ]
  },
  {
   "cell_type": "code",
   "execution_count": 23,
   "metadata": {},
   "outputs": [
    {
     "name": "stdout",
     "output_type": "stream",
     "text": [
      "38\n",
      "Precision:  0.5365853658536586\n",
      "Recall:  0.6285714285714286\n",
      "F1-Score:  0.5789473684210527\n"
     ]
    },
    {
     "data": {
      "image/png": "[encoded data removed]",
      "text/plain": [
       "<Figure size 640x480 with 1 Axes>"
      ]
     },
     "metadata": {},
     "output_type": "display_data"
    }
   ],
   "source": [
    "from sklearn.metrics import confusion_matrix, roc_curve, roc_auc_score, precision_score, recall_score, f1_score\n",
    "import matplotlib.pyplot as plt\n",
    "\n",
    "conf_matrix = confusion_matrix(y_test.cpu().numpy(), predictions_test.cpu().numpy())\n",
    "print(conf_matrix[0][0])\n",
    "type(conf_matrix)\n",
    "\n",
    "false_pos_rate, true_pos_rate, thresholds = roc_curve(y_test.cpu().numpy(), predictions_test.cpu().numpy())\n",
    "roc_auc = roc_auc_score(y_test.cpu().numpy(), predictions_test.cpu().numpy())\n",
    "\n",
    "precision = precision_score(y_test.cpu().numpy(), predictions_test.cpu().numpy())\n",
    "recall = recall_score(y_test.cpu().numpy(), predictions_test.cpu().numpy())\n",
    "f1 = f1_score(y_test.cpu().numpy(), predictions_test.cpu().numpy())\n",
    "print(\"Precision: \", precision)\n",
    "print(\"Recall: \", recall)\n",
    "print(\"F1-Score: \", f1)\n",
    "\n",
    "plt.plot(false_pos_rate, true_pos_rate, label=f'ROC Curve (AUC = {roc_auc:.2f})')\n",
    "plt.plot([0, 1], [0, 1], color='red', linestyle='--', label='Random Classifier')\n",
    "plt.xlabel('False Positive Rate (FPR)')\n",
    "plt.ylabel('True Positive Rate (TPR)')\n",
    "plt.title('Receiver Operating Characteristic (ROC) Curve')\n",
    "plt.legend(loc='lower right')\n",
    "plt.grid()\n",
    "plt.show()"
   ]
  },
  {
   "cell_type": "markdown",
   "metadata": {},
   "source": [
    "<span style=\"font-size:22px;\">***- Saving the Model (last one generated)***.</span>"
   ]
  },
  {
   "cell_type": "code",
   "execution_count": null,
   "metadata": {},
   "outputs": [],
   "source": [
    "torch.save(new_model, \"new_model.pth\")\n",
    "print(\"Entire model saved.\")"
   ]
  },
  {
   "cell_type": "markdown",
   "metadata": {},
   "source": [
    "<span style=\"font-size:22px;\">***- Loading the Model and Evaluating it***.</span>"
   ]
  },
  {
   "cell_type": "code",
   "execution_count": 25,
   "metadata": {},
   "outputs": [
    {
     "name": "stdout",
     "output_type": "stream",
     "text": [
      "The accuracy for the loaded model is:  0.51\n"
     ]
    }
   ],
   "source": [
    "loaded_model = torch.load(\"new_model.pth\")\n",
    "loaded_model.to(device)\n",
    "loaded_model.eval()\n",
    "\n",
    "with torch.no_grad():\n",
    "    output_loaded_model = loaded_model(X_test)\n",
    "output_loaded_model.shape\n",
    "predictions_loaded_model = (output_loaded_model.squeeze(dim=1) > 0.5).float()\n",
    "accuracy_loaded_model = (predictions_loaded_model == y_test).sum().item() / len(y_test)\n",
    "\n",
    "print(\"The accuracy for the loaded model is: \", accuracy_loaded_model)"
   ]
  },
  {
   "cell_type": "markdown",
   "metadata": {},
   "source": [
    "<span style=\"font-size:22px;\">***- Hyperparameters Tuning***.</span>"
   ]
  },
  {
   "cell_type": "code",
   "execution_count": 27,
   "metadata": {},
   "outputs": [
    {
     "name": "stdout",
     "output_type": "stream",
     "text": [
      "\n",
      "Training Model with Learning Rate equal to:  0.01 \n",
      "\n",
      "Number of epochs:  100 , Loss:  0.7279093265533447\n",
      "Accuracy Train:  0.525 Accuracy Test:  0.455\n",
      "Number of epochs:  200 , Loss:  0.7118288278579712\n",
      "Accuracy Train:  0.5275 Accuracy Test:  0.475\n",
      "Number of epochs:  300 , Loss:  0.7016616463661194\n",
      "Accuracy Train:  0.52375 Accuracy Test:  0.475\n",
      "Number of epochs:  400 , Loss:  0.6953378915786743\n",
      "Accuracy Train:  0.5175 Accuracy Test:  0.47\n",
      "Number of epochs:  500 , Loss:  0.6914409399032593\n",
      "Accuracy Train:  0.51875 Accuracy Test:  0.5\n",
      "Number of epochs:  600 , Loss:  0.6890502572059631\n",
      "Accuracy Train:  0.5275 Accuracy Test:  0.53\n",
      "Number of epochs:  700 , Loss:  0.6875858902931213\n",
      "Accuracy Train:  0.54125 Accuracy Test:  0.525\n",
      "Number of epochs:  800 , Loss:  0.6866886615753174\n",
      "Accuracy Train:  0.54 Accuracy Test:  0.5\n",
      "Number of epochs:  900 , Loss:  0.6861379742622375\n",
      "Accuracy Train:  0.54 Accuracy Test:  0.5\n",
      "Number of epochs:  1000 , Loss:  0.6857994198799133\n",
      "Accuracy Train:  0.54125 Accuracy Test:  0.5\n",
      "\n",
      "Training Model with Learning Rate equal to:  0.05 \n",
      "\n",
      "Number of epochs:  100 , Loss:  0.6894180178642273\n",
      "Accuracy Train:  0.54875 Accuracy Test:  0.545\n",
      "Number of epochs:  200 , Loss:  0.6856560111045837\n",
      "Accuracy Train:  0.5475 Accuracy Test:  0.53\n",
      "Number of epochs:  300 , Loss:  0.685289740562439\n",
      "Accuracy Train:  0.54125 Accuracy Test:  0.52\n",
      "Number of epochs:  400 , Loss:  0.6852535605430603\n",
      "Accuracy Train:  0.54875 Accuracy Test:  0.51\n",
      "Number of epochs:  500 , Loss:  0.6852501034736633\n",
      "Accuracy Train:  0.5425 Accuracy Test:  0.505\n",
      "Number of epochs:  600 , Loss:  0.6852496266365051\n",
      "Accuracy Train:  0.54375 Accuracy Test:  0.505\n",
      "Number of epochs:  700 , Loss:  0.6852496266365051\n",
      "Accuracy Train:  0.54375 Accuracy Test:  0.505\n",
      "Number of epochs:  800 , Loss:  0.6852495670318604\n",
      "Accuracy Train:  0.54375 Accuracy Test:  0.505\n",
      "Number of epochs:  900 , Loss:  0.6852496266365051\n",
      "Accuracy Train:  0.54375 Accuracy Test:  0.505\n",
      "Number of epochs:  1000 , Loss:  0.6852496266365051\n",
      "Accuracy Train:  0.54375 Accuracy Test:  0.505\n",
      "\n",
      "Training Model with Learning Rate equal to:  0.1 \n",
      "\n",
      "Number of epochs:  100 , Loss:  0.6856234669685364\n",
      "Accuracy Train:  0.55125 Accuracy Test:  0.525\n",
      "Number of epochs:  200 , Loss:  0.6852527260780334\n",
      "Accuracy Train:  0.5475 Accuracy Test:  0.505\n",
      "Number of epochs:  300 , Loss:  0.6852496266365051\n",
      "Accuracy Train:  0.54375 Accuracy Test:  0.505\n",
      "Number of epochs:  400 , Loss:  0.6852496266365051\n",
      "Accuracy Train:  0.54375 Accuracy Test:  0.505\n",
      "Number of epochs:  500 , Loss:  0.6852496266365051\n",
      "Accuracy Train:  0.54375 Accuracy Test:  0.505\n",
      "Number of epochs:  600 , Loss:  0.6852496266365051\n",
      "Accuracy Train:  0.54375 Accuracy Test:  0.505\n",
      "Number of epochs:  700 , Loss:  0.6852496266365051\n",
      "Accuracy Train:  0.54375 Accuracy Test:  0.505\n",
      "Number of epochs:  800 , Loss:  0.6852496266365051\n",
      "Accuracy Train:  0.54375 Accuracy Test:  0.505\n",
      "Number of epochs:  900 , Loss:  0.6852496266365051\n",
      "Accuracy Train:  0.54375 Accuracy Test:  0.505\n",
      "Number of epochs:  1000 , Loss:  0.6852496266365051\n",
      "Accuracy Train:  0.54375 Accuracy Test:  0.505\n",
      "\n",
      "The obtained best accuracy is:  0.505 for a learning rate of:  0.05\n"
     ]
    }
   ],
   "source": [
    "learning_rates = [0.01, 0.05, 0.1]\n",
    "best_lr = 0.0\n",
    "best_accuracy = 0.0\n",
    "thresholds = 0.5\n",
    "\n",
    "for learning_rate in learning_rates:\n",
    "\n",
    "    models = LogisticRegressionModel(number_features)\n",
    "    models.to(device)\n",
    "    optimizer = torch.optim.SGD(models.parameters(), lr=learning_rate)\n",
    "\n",
    "    print(\"\\nTraining Model with Learning Rate equal to: \", learning_rate, \"\\n\")\n",
    "    losses = []\n",
    "    epochs = 1000\n",
    "\n",
    "    #print(model_output)\n",
    "    for epoch in range(epochs):\n",
    "        models.train()\n",
    "        optimizer.zero_grad()\n",
    "        model_output = models(X_train)\n",
    "\n",
    "        loss = criterion(model_output.squeeze(dim=1), y_train)\n",
    "        loss.backward()\n",
    "        optimizer.step()\n",
    "        if (epoch + 1) % 100 == 0:\n",
    "            print(\"Number of epochs: \", epoch + 1, \", Loss: \", loss.item())\n",
    "        losses.append(loss.item())\n",
    "\n",
    "        with torch.no_grad():\n",
    "            models.eval()\n",
    "            eval_output_train = models(X_train)\n",
    "            eval_output_test = models(X_test)\n",
    "            predictions_train = (eval_output_train.squeeze(dim=1) > thresholds).float()\n",
    "            predictions_test = (eval_output_test.squeeze(dim=1) > thresholds).float()\n",
    "            correctness_train = (predictions_train == y_train).sum().item()\n",
    "            correctness_test = (predictions_test == y_test).sum().item()\n",
    "            accuracy_train = correctness_train / y_train.size(0)\n",
    "            accuracy_test = correctness_test / y_test.size(0)\n",
    "            if (epoch + 1) % 100 == 0:\n",
    "                print(\"Accuracy Train: \", accuracy_train, \"Accuracy Test: \", accuracy_test)\n",
    "\n",
    "    if accuracy_test > best_accuracy:\n",
    "        best_accuracy = accuracy_test\n",
    "        best_lr = learning_rate\n",
    "\n",
    "print(\"\\nThe obtained best accuracy is: \", best_accuracy, \"for a learning rate of: \", best_lr)"
   ]
  },
  {
   "cell_type": "markdown",
   "metadata": {},
   "source": [
    "<span style=\"font-size:22px;\">***- Verifying features influence***.</span>"
   ]
  },
  {
   "cell_type": "code",
   "execution_count": 29,
   "metadata": {},
   "outputs": [
    {
     "name": "stdout",
     "output_type": "stream",
     "text": [
      "       Features  Importance\n",
      "0         kills    0.130975\n",
      "1        deaths   -0.005132\n",
      "2       assists   -0.013663\n",
      "3   gold_earned    0.175342\n",
      "4            cs   -0.007268\n",
      "5  wards_placed    0.106087\n",
      "6  wards_killed   -0.034605\n",
      "7  damage_dealt   -0.018873\n",
      "       Features  Importance\n",
      "3   gold_earned    0.175342\n",
      "0         kills    0.130975\n",
      "5  wards_placed    0.106087\n",
      "1        deaths   -0.005132\n",
      "4            cs   -0.007268\n",
      "2       assists   -0.013663\n",
      "7  damage_dealt   -0.018873\n",
      "6  wards_killed   -0.034605\n"
     ]
    },
    {
     "data": {
      "image/png": "[encoded data removed]",
      "text/plain": [
       "<Figure size 1000x600 with 1 Axes>"
      ]
     },
     "metadata": {},
     "output_type": "display_data"
    },
    {
     "data": {
      "text/plain": [
       "'project ended here.'"
      ]
     },
     "execution_count": 29,
     "metadata": {},
     "output_type": "execute_result"
    }
   ],
   "source": [
    "weights = models.function1.weight.data.cpu().numpy().flatten()\n",
    "features = X.columns\n",
    "\n",
    "feature_importance = pd.DataFrame({'Features': features, 'Importance': weights})\n",
    "print(feature_importance)\n",
    "feature_importance = feature_importance.sort_values(by='Importance', ascending=False)\n",
    "print(feature_importance)\n",
    "\n",
    "plt.figure(figsize=(10,6))\n",
    "plt.bar(feature_importance['Features'], feature_importance['Importance'])\n",
    "plt.xlabel(\"Features\")\n",
    "plt.ylabel(\"Importance\")\n",
    "plt.title(\"Features Importance\")\n",
    "plt.xticks(rotation=45)\n",
    "plt.show()\n",
    "\n",
    "\"project ended here.\""
   ]
  },
  {
   "cell_type": "code",
   "execution_count": null,
   "metadata": {},
   "outputs": [],
   "source": []
  }
 ],
 "metadata": {
  "kernelspec": {
   "display_name": "base",
   "language": "python",
   "name": "python3"
  },
  "language_info": {
   "codemirror_mode": {
    "name": "ipython",
    "version": 3
   },
   "file_extension": ".py",
   "mimetype": "text/x-python",
   "name": "python",
   "nbconvert_exporter": "python",
   "pygments_lexer": "ipython3",
   "version": "3.9.12"
  }
 },
 "nbformat": 4,
 "nbformat_minor": 2
}
